{
 "cells": [
  {
   "cell_type": "code",
   "execution_count": null,
   "metadata": {},
   "outputs": [],
   "source": [
    "import pandas as pd\n",
    "import numpy as np\n",
    "from sklearn.metrics.pairwise import cosine_similarity\n",
    "import scipy"
   ]
  },
  {
   "cell_type": "code",
   "execution_count": null,
   "metadata": {},
   "outputs": [],
   "source": [
    "df = pd.read_csv('final_features.csv')"
   ]
  },
  {
   "cell_type": "code",
   "execution_count": null,
   "metadata": {},
   "outputs": [],
   "source": [
    "df.reset_index(drop = True,inplace = True)\n",
    "df.drop(df.columns[0],axis=1 , inplace = True)\n",
    "df"
   ]
  },
  {
   "cell_type": "code",
   "execution_count": null,
   "metadata": {},
   "outputs": [],
   "source": [
    "vector = df[['seller_index','category_index','review_score']].values\n",
    "item_ids = df.index\n",
    "product_id = df.product_id"
   ]
  },
  {
   "cell_type": "code",
   "execution_count": null,
   "metadata": {},
   "outputs": [],
   "source": [
    "def get_product(item_id):\n",
    "    idx = item_ids[item_id]\n",
    "    item_profile = vector[idx:idx+1]\n",
    "    return item_profile\n",
    "def get_related_products(ids):\n",
    "    item_profile_list = [get_product(x) for x in ids]\n",
    "    item_profiles = scipy.sparse.vstack(item_profile_list)\n",
    "    return item_profiles"
   ]
  },
  {
   "cell_type": "code",
   "execution_count": null,
   "metadata": {},
   "outputs": [],
   "source": [
    "class ContentBasedRecommender:\n",
    "    MODEL_NAME = 'Content-Based'\n",
    "    def __init__(self,item_ids=None):\n",
    "        self.item_ids = item_ids\n",
    "    def get_model_name(self):\n",
    "        return self.MODEL_NAME\n",
    "    def _get_similar_products(self, item_id, topn=1000):\n",
    "        cosine_similarities = cosine_similarity(get_product(item_id),vector)\n",
    "        similar_indices = cosine_similarities.argsort().flatten()[-topn:]\n",
    "        similar_products = sorted([(item_ids[i],cosine_similarities[0,i]) for i in similar_indices ], key=lambda x : -x[1])\n",
    "        return similar_products\n",
    "    def get_recommendation(self,item_id,items_to_ignore = [], topn=10, verbose = False):\n",
    "        items_to_ignore.append(item_id)\n",
    "        similar_items = self._get_similar_products(item_id)\n",
    "        similar_items_filtered = list(filter(lambda x: x[0] not in items_to_ignore, similar_items))\n",
    "        return similar_items_filtered[:10]"
   ]
  },
  {
   "cell_type": "code",
   "execution_count": null,
   "metadata": {},
   "outputs": [],
   "source": [
    "csm = ContentBasedRecommender(item_ids)"
   ]
  },
  {
   "cell_type": "code",
   "execution_count": null,
   "metadata": {},
   "outputs": [],
   "source": [
    "csm = ContentBasedRecommender(item_ids)\n",
    "x = csm.get_recommendation(23431)[:5]\n",
    "x\n"
   ]
  },
  {
   "cell_type": "code",
   "execution_count": null,
   "metadata": {},
   "outputs": [],
   "source": [
    "ids = []\n",
    "for i in range(0,len(x)):\n",
    "    ids.append(x[i][0])\n",
    "pids = []\n",
    "for i in range (0,len(ids)):\n",
    "    pids.append(product_id[ids[i]])\n",
    "pids\n"
   ]
  },
  {
   "cell_type": "code",
   "execution_count": null,
   "metadata": {},
   "outputs": [],
   "source": []
  },
  {
   "cell_type": "code",
   "execution_count": null,
   "metadata": {},
   "outputs": [],
   "source": [
    "df[df.product_id==\"39e38f0813b0c9604db569e538db3b44\"]"
   ]
  },
  {
   "cell_type": "code",
   "execution_count": null,
   "metadata": {},
   "outputs": [],
   "source": [
    "df1 = pd.read_csv('database_f.csv')\n"
   ]
  },
  {
   "cell_type": "code",
   "execution_count": null,
   "metadata": {},
   "outputs": [],
   "source": [
    "df1[df1.product_id==\"cc64f28b5d156587d478b9b1a876340e\"]"
   ]
  }
 ],
 "metadata": {
  "kernelspec": {
   "display_name": "Python 3",
   "language": "python",
   "name": "python3"
  },
  "language_info": {
   "codemirror_mode": {
    "name": "ipython",
    "version": 3
   },
   "file_extension": ".py",
   "mimetype": "text/x-python",
   "name": "python",
   "nbconvert_exporter": "python",
   "pygments_lexer": "ipython3",
   "version": "3.7.4"
  }
 },
 "nbformat": 4,
 "nbformat_minor": 2
}
