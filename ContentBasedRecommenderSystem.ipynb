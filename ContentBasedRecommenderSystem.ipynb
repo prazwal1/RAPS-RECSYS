{
 "cells": [
  {
   "cell_type": "code",
   "execution_count": 1,
   "metadata": {},
   "outputs": [],
   "source": [
    "import pandas as pd\n",
    "import numpy as np\n",
    "from sklearn.metrics.pairwise import cosine_similarity\n",
    "import scipy"
   ]
  },
  {
   "cell_type": "code",
   "execution_count": 2,
   "metadata": {},
   "outputs": [],
   "source": [
    "df = pd.read_csv('final_features.csv')"
   ]
  },
  {
   "cell_type": "code",
   "execution_count": 3,
   "metadata": {},
   "outputs": [
    {
     "data": {
      "text/html": [
       "<div>\n",
       "<style scoped>\n",
       "    .dataframe tbody tr th:only-of-type {\n",
       "        vertical-align: middle;\n",
       "    }\n",
       "\n",
       "    .dataframe tbody tr th {\n",
       "        vertical-align: top;\n",
       "    }\n",
       "\n",
       "    .dataframe thead th {\n",
       "        text-align: right;\n",
       "    }\n",
       "</style>\n",
       "<table border=\"1\" class=\"dataframe\">\n",
       "  <thead>\n",
       "    <tr style=\"text-align: right;\">\n",
       "      <th></th>\n",
       "      <th>product_id</th>\n",
       "      <th>seller_index</th>\n",
       "      <th>category_index</th>\n",
       "      <th>review_score</th>\n",
       "      <th>order_item_id</th>\n",
       "    </tr>\n",
       "  </thead>\n",
       "  <tbody>\n",
       "    <tr>\n",
       "      <td>0</td>\n",
       "      <td>00066f42aeeb9f3007548bb9d3f33c38</td>\n",
       "      <td>2</td>\n",
       "      <td>2.9</td>\n",
       "      <td>5.0</td>\n",
       "      <td>1</td>\n",
       "    </tr>\n",
       "    <tr>\n",
       "      <td>1</td>\n",
       "      <td>00088930e925c41fd95ebfe695fd2655</td>\n",
       "      <td>2</td>\n",
       "      <td>14.5</td>\n",
       "      <td>4.0</td>\n",
       "      <td>0</td>\n",
       "    </tr>\n",
       "    <tr>\n",
       "      <td>2</td>\n",
       "      <td>0009406fd7479715e4bef61dd91f2462</td>\n",
       "      <td>2</td>\n",
       "      <td>16.3</td>\n",
       "      <td>1.0</td>\n",
       "      <td>0</td>\n",
       "    </tr>\n",
       "    <tr>\n",
       "      <td>3</td>\n",
       "      <td>000b8f95fcb9e0096488278317764d19</td>\n",
       "      <td>2</td>\n",
       "      <td>16.9</td>\n",
       "      <td>5.0</td>\n",
       "      <td>2</td>\n",
       "    </tr>\n",
       "    <tr>\n",
       "      <td>4</td>\n",
       "      <td>000d9be29b5207b54e86aa1b1ac54872</td>\n",
       "      <td>2</td>\n",
       "      <td>2.8</td>\n",
       "      <td>5.0</td>\n",
       "      <td>0</td>\n",
       "    </tr>\n",
       "    <tr>\n",
       "      <td>...</td>\n",
       "      <td>...</td>\n",
       "      <td>...</td>\n",
       "      <td>...</td>\n",
       "      <td>...</td>\n",
       "      <td>...</td>\n",
       "    </tr>\n",
       "    <tr>\n",
       "      <td>32946</td>\n",
       "      <td>fff6177642830a9a94a0f2cba5e476d1</td>\n",
       "      <td>2</td>\n",
       "      <td>2.1</td>\n",
       "      <td>4.5</td>\n",
       "      <td>0</td>\n",
       "    </tr>\n",
       "    <tr>\n",
       "      <td>32947</td>\n",
       "      <td>fff81cc3158d2725c0655ab9ba0f712c</td>\n",
       "      <td>2</td>\n",
       "      <td>2.7</td>\n",
       "      <td>4.0</td>\n",
       "      <td>0</td>\n",
       "    </tr>\n",
       "    <tr>\n",
       "      <td>32948</td>\n",
       "      <td>fff9553ac224cec9d15d49f5a263411f</td>\n",
       "      <td>2</td>\n",
       "      <td>5.2</td>\n",
       "      <td>5.0</td>\n",
       "      <td>0</td>\n",
       "    </tr>\n",
       "    <tr>\n",
       "      <td>32949</td>\n",
       "      <td>fffdb2d0ec8d6a61f0a0a0db3f25b441</td>\n",
       "      <td>2</td>\n",
       "      <td>12.2</td>\n",
       "      <td>5.0</td>\n",
       "      <td>0</td>\n",
       "    </tr>\n",
       "    <tr>\n",
       "      <td>32950</td>\n",
       "      <td>fffe9eeff12fcbd74a2f2b007dde0c58</td>\n",
       "      <td>12</td>\n",
       "      <td>4.1</td>\n",
       "      <td>4.0</td>\n",
       "      <td>0</td>\n",
       "    </tr>\n",
       "  </tbody>\n",
       "</table>\n",
       "<p>32951 rows × 5 columns</p>\n",
       "</div>"
      ],
      "text/plain": [
       "                             product_id  seller_index  category_index  \\\n",
       "0      00066f42aeeb9f3007548bb9d3f33c38             2             2.9   \n",
       "1      00088930e925c41fd95ebfe695fd2655             2            14.5   \n",
       "2      0009406fd7479715e4bef61dd91f2462             2            16.3   \n",
       "3      000b8f95fcb9e0096488278317764d19             2            16.9   \n",
       "4      000d9be29b5207b54e86aa1b1ac54872             2             2.8   \n",
       "...                                 ...           ...             ...   \n",
       "32946  fff6177642830a9a94a0f2cba5e476d1             2             2.1   \n",
       "32947  fff81cc3158d2725c0655ab9ba0f712c             2             2.7   \n",
       "32948  fff9553ac224cec9d15d49f5a263411f             2             5.2   \n",
       "32949  fffdb2d0ec8d6a61f0a0a0db3f25b441             2            12.2   \n",
       "32950  fffe9eeff12fcbd74a2f2b007dde0c58            12             4.1   \n",
       "\n",
       "       review_score  order_item_id  \n",
       "0               5.0              1  \n",
       "1               4.0              0  \n",
       "2               1.0              0  \n",
       "3               5.0              2  \n",
       "4               5.0              0  \n",
       "...             ...            ...  \n",
       "32946           4.5              0  \n",
       "32947           4.0              0  \n",
       "32948           5.0              0  \n",
       "32949           5.0              0  \n",
       "32950           4.0              0  \n",
       "\n",
       "[32951 rows x 5 columns]"
      ]
     },
     "execution_count": 3,
     "metadata": {},
     "output_type": "execute_result"
    }
   ],
   "source": [
    "df.reset_index(drop = True,inplace = True)\n",
    "df.drop(df.columns[0],axis=1 , inplace = True)\n",
    "df"
   ]
  },
  {
   "cell_type": "code",
   "execution_count": 4,
   "metadata": {},
   "outputs": [],
   "source": [
    "vector = df[['seller_index','category_index','review_score']].values\n",
    "item_ids = df.index\n",
    "product_id = df.product_id"
   ]
  },
  {
   "cell_type": "code",
   "execution_count": 5,
   "metadata": {},
   "outputs": [],
   "source": [
    "def get_product(item_id):\n",
    "    idx = item_ids[item_id]\n",
    "    item_profile = vector[idx:idx+1]\n",
    "    return item_profile\n",
    "def get_related_products(ids):\n",
    "    item_profile_list = [get_product(x) for x in ids]\n",
    "    item_profiles = scipy.sparse.vstack(item_profile_list)\n",
    "    return item_profiles"
   ]
  },
  {
   "cell_type": "code",
   "execution_count": 6,
   "metadata": {},
   "outputs": [],
   "source": [
    "class ContentBasedRecommender:\n",
    "    MODEL_NAME = 'Content-Based'\n",
    "    def __init__(self,item_ids=None):\n",
    "        self.item_ids = item_ids\n",
    "    def get_model_name(self):\n",
    "        return self.MODEL_NAME\n",
    "    def _get_similar_products(self, item_id, topn=1000):\n",
    "        cosine_similarities = cosine_similarity(get_product(item_id),vector)\n",
    "        similar_indices = cosine_similarities.argsort().flatten()[-topn:]\n",
    "        similar_products = sorted([(item_ids[i],cosine_similarities[0,i]) for i in similar_indices ], key=lambda x : -x[1])\n",
    "        return similar_products\n",
    "    def get_recommendation(self,item_id,items_to_ignore = [], topn=10, verbose = False):\n",
    "        items_to_ignore.append(item_id)\n",
    "        similar_items = self._get_similar_products(item_id)\n",
    "        similar_items_filtered = list(filter(lambda x: x[0] not in items_to_ignore, similar_items))\n",
    "        return similar_items_filtered[:10]"
   ]
  },
  {
   "cell_type": "code",
   "execution_count": 7,
   "metadata": {},
   "outputs": [],
   "source": [
    "csm = ContentBasedRecommender(item_ids)"
   ]
  },
  {
   "cell_type": "code",
   "execution_count": 8,
   "metadata": {},
   "outputs": [
    {
     "data": {
      "text/plain": [
       "[(252, 1.0), (29567, 1.0), (29409, 1.0), (24470, 1.0), (20699, 1.0)]"
      ]
     },
     "execution_count": 8,
     "metadata": {},
     "output_type": "execute_result"
    }
   ],
   "source": [
    "x = csm.get_recommendation(23431)[:5]\n",
    "x\n"
   ]
  },
  {
   "cell_type": "code",
   "execution_count": 9,
   "metadata": {},
   "outputs": [
    {
     "data": {
      "text/plain": [
       "['01e20e6604216c8adb31d463214ba00c',\n",
       " 'e5ac4f7201729a0d3639d979c104b91d',\n",
       " 'e4835fa9d35d4226f23380c4a7cf12ec',\n",
       " 'be751484da30a0a6f7ded2b640ee091c',\n",
       " 'a0ff95d002b9e836b60b47e97a200f93']"
      ]
     },
     "execution_count": 9,
     "metadata": {},
     "output_type": "execute_result"
    }
   ],
   "source": [
    "ids = []\n",
    "for i in range(0,len(x)):\n",
    "    ids.append(x[i][0])\n",
    "pids = []\n",
    "for i in range (0,len(ids)):\n",
    "    pids.append(product_id[ids[i]])\n",
    "pids\n"
   ]
  },
  {
   "cell_type": "code",
   "execution_count": 11,
   "metadata": {},
   "outputs": [],
   "source": [
    "df1 = pd.read_csv('database_f.csv')\n"
   ]
  },
  {
   "cell_type": "code",
   "execution_count": 15,
   "metadata": {},
   "outputs": [
    {
     "data": {
      "text/html": [
       "<div>\n",
       "<style scoped>\n",
       "    .dataframe tbody tr th:only-of-type {\n",
       "        vertical-align: middle;\n",
       "    }\n",
       "\n",
       "    .dataframe tbody tr th {\n",
       "        vertical-align: top;\n",
       "    }\n",
       "\n",
       "    .dataframe thead th {\n",
       "        text-align: right;\n",
       "    }\n",
       "</style>\n",
       "<table border=\"1\" class=\"dataframe\">\n",
       "  <thead>\n",
       "    <tr style=\"text-align: right;\">\n",
       "      <th></th>\n",
       "      <th>product_id</th>\n",
       "      <th>product_name</th>\n",
       "      <th>product_category_name_english</th>\n",
       "      <th>product_weight_g</th>\n",
       "      <th>product_length_cm</th>\n",
       "      <th>product_height_cm</th>\n",
       "      <th>product_width_cm</th>\n",
       "      <th>price</th>\n",
       "      <th>review_score</th>\n",
       "    </tr>\n",
       "  </thead>\n",
       "  <tbody>\n",
       "    <tr>\n",
       "      <td>23936</td>\n",
       "      <td>e5ac4f7201729a0d3639d979c104b91d</td>\n",
       "      <td>home_construction Product 28</td>\n",
       "      <td>home_construction</td>\n",
       "      <td>2600.0</td>\n",
       "      <td>38.0</td>\n",
       "      <td>28.0</td>\n",
       "      <td>28.0</td>\n",
       "      <td>239.9</td>\n",
       "      <td>5.0</td>\n",
       "    </tr>\n",
       "  </tbody>\n",
       "</table>\n",
       "</div>"
      ],
      "text/plain": [
       "                             product_id                  product_name  \\\n",
       "23936  e5ac4f7201729a0d3639d979c104b91d  home_construction Product 28   \n",
       "\n",
       "      product_category_name_english  product_weight_g  product_length_cm  \\\n",
       "23936             home_construction            2600.0               38.0   \n",
       "\n",
       "       product_height_cm  product_width_cm  price  review_score  \n",
       "23936               28.0              28.0  239.9           5.0  "
      ]
     },
     "execution_count": 15,
     "metadata": {},
     "output_type": "execute_result"
    }
   ],
   "source": [
    "df1[df1.product_id==\"e5ac4f7201729a0d3639d979c104b91d\"]"
   ]
  }
 ],
 "metadata": {
  "kernelspec": {
   "display_name": "Python 3",
   "language": "python",
   "name": "python3"
  },
  "language_info": {
   "codemirror_mode": {
    "name": "ipython",
    "version": 3
   },
   "file_extension": ".py",
   "mimetype": "text/x-python",
   "name": "python",
   "nbconvert_exporter": "python",
   "pygments_lexer": "ipython3",
   "version": "3.7.4"
  }
 },
 "nbformat": 4,
 "nbformat_minor": 2
}
