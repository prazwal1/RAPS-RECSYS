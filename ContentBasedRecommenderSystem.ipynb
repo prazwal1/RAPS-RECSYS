{
 "cells": [
  {
   "cell_type": "code",
   "execution_count": 1,
   "metadata": {},
   "outputs": [],
   "source": [
    "import pandas as pd\n",
    "import numpy as np\n",
    "from sklearn.metrics.pairwise import cosine_similarity\n",
    "import scipy"
   ]
  },
  {
   "cell_type": "code",
   "execution_count": 2,
   "metadata": {},
   "outputs": [],
   "source": [
    "df = pd.read_csv('features.csv')"
   ]
  },
  {
   "cell_type": "code",
   "execution_count": 3,
   "metadata": {},
   "outputs": [
    {
     "data": {
      "text/html": [
       "<div>\n",
       "<style scoped>\n",
       "    .dataframe tbody tr th:only-of-type {\n",
       "        vertical-align: middle;\n",
       "    }\n",
       "\n",
       "    .dataframe tbody tr th {\n",
       "        vertical-align: top;\n",
       "    }\n",
       "\n",
       "    .dataframe thead th {\n",
       "        text-align: right;\n",
       "    }\n",
       "</style>\n",
       "<table border=\"1\" class=\"dataframe\">\n",
       "  <thead>\n",
       "    <tr style=\"text-align: right;\">\n",
       "      <th></th>\n",
       "      <th>product_id</th>\n",
       "      <th>seller_index</th>\n",
       "      <th>category_index</th>\n",
       "      <th>review_score</th>\n",
       "    </tr>\n",
       "  </thead>\n",
       "  <tbody>\n",
       "    <tr>\n",
       "      <th>0</th>\n",
       "      <td>3880d25d502b15b1de6fddc42ad1d67a</td>\n",
       "      <td>1725</td>\n",
       "      <td>0</td>\n",
       "      <td>5.0</td>\n",
       "    </tr>\n",
       "    <tr>\n",
       "      <th>1</th>\n",
       "      <td>6dae4e6bc334685708571a48aa41d437</td>\n",
       "      <td>2809</td>\n",
       "      <td>0</td>\n",
       "      <td>3.0</td>\n",
       "    </tr>\n",
       "    <tr>\n",
       "      <th>2</th>\n",
       "      <td>41817d1d44000e3105f24470a5224bcb</td>\n",
       "      <td>2493</td>\n",
       "      <td>0</td>\n",
       "      <td>5.0</td>\n",
       "    </tr>\n",
       "    <tr>\n",
       "      <th>3</th>\n",
       "      <td>8173ca41cdb176462f9ae79821a48404</td>\n",
       "      <td>2870</td>\n",
       "      <td>0</td>\n",
       "      <td>5.0</td>\n",
       "    </tr>\n",
       "    <tr>\n",
       "      <th>4</th>\n",
       "      <td>6a0f59f3946c8169999e2fb7e946ac96</td>\n",
       "      <td>831</td>\n",
       "      <td>0</td>\n",
       "      <td>1.5</td>\n",
       "    </tr>\n",
       "    <tr>\n",
       "      <th>...</th>\n",
       "      <td>...</td>\n",
       "      <td>...</td>\n",
       "      <td>...</td>\n",
       "      <td>...</td>\n",
       "    </tr>\n",
       "    <tr>\n",
       "      <th>28281</th>\n",
       "      <td>cf6b03b7b6a0d499505b4342f06e5f80</td>\n",
       "      <td>776</td>\n",
       "      <td>70</td>\n",
       "      <td>3.0</td>\n",
       "    </tr>\n",
       "    <tr>\n",
       "      <th>28282</th>\n",
       "      <td>5f2ad53b751662e4c54dceffadb3804d</td>\n",
       "      <td>776</td>\n",
       "      <td>70</td>\n",
       "      <td>5.0</td>\n",
       "    </tr>\n",
       "    <tr>\n",
       "      <th>28283</th>\n",
       "      <td>f750e77aeeecafcb47516be7f8f278b8</td>\n",
       "      <td>65</td>\n",
       "      <td>70</td>\n",
       "      <td>5.0</td>\n",
       "    </tr>\n",
       "    <tr>\n",
       "      <th>28284</th>\n",
       "      <td>6c7a0a349ad11817745e3ad58abd5c79</td>\n",
       "      <td>2248</td>\n",
       "      <td>71</td>\n",
       "      <td>4.0</td>\n",
       "    </tr>\n",
       "    <tr>\n",
       "      <th>28285</th>\n",
       "      <td>8db75af9aed3315374db44d7860e25da</td>\n",
       "      <td>1664</td>\n",
       "      <td>71</td>\n",
       "      <td>1.0</td>\n",
       "    </tr>\n",
       "  </tbody>\n",
       "</table>\n",
       "<p>28286 rows × 4 columns</p>\n",
       "</div>"
      ],
      "text/plain": [
       "                             product_id  seller_index  category_index  \\\n",
       "0      3880d25d502b15b1de6fddc42ad1d67a          1725               0   \n",
       "1      6dae4e6bc334685708571a48aa41d437          2809               0   \n",
       "2      41817d1d44000e3105f24470a5224bcb          2493               0   \n",
       "3      8173ca41cdb176462f9ae79821a48404          2870               0   \n",
       "4      6a0f59f3946c8169999e2fb7e946ac96           831               0   \n",
       "...                                 ...           ...             ...   \n",
       "28281  cf6b03b7b6a0d499505b4342f06e5f80           776              70   \n",
       "28282  5f2ad53b751662e4c54dceffadb3804d           776              70   \n",
       "28283  f750e77aeeecafcb47516be7f8f278b8            65              70   \n",
       "28284  6c7a0a349ad11817745e3ad58abd5c79          2248              71   \n",
       "28285  8db75af9aed3315374db44d7860e25da          1664              71   \n",
       "\n",
       "       review_score  \n",
       "0               5.0  \n",
       "1               3.0  \n",
       "2               5.0  \n",
       "3               5.0  \n",
       "4               1.5  \n",
       "...             ...  \n",
       "28281           3.0  \n",
       "28282           5.0  \n",
       "28283           5.0  \n",
       "28284           4.0  \n",
       "28285           1.0  \n",
       "\n",
       "[28286 rows x 4 columns]"
      ]
     },
     "execution_count": 3,
     "metadata": {},
     "output_type": "execute_result"
    }
   ],
   "source": [
    "df.reset_index(drop = True,inplace = True)\n",
    "df.drop(df.columns[0],axis=1 , inplace = True)\n",
    "df"
   ]
  },
  {
   "cell_type": "code",
   "execution_count": 4,
   "metadata": {},
   "outputs": [],
   "source": [
    "vector = df[['category_index','seller_index','review_score']].values\n",
    "item_ids = df.index\n",
    "product_id = df.product_id"
   ]
  },
  {
   "cell_type": "code",
   "execution_count": 5,
   "metadata": {},
   "outputs": [],
   "source": [
    "def get_product(item_id):\n",
    "    idx = item_ids[item_id]\n",
    "    item_profile = vector[idx:idx+1]\n",
    "    return item_profile\n",
    "def get_related_products(ids):\n",
    "    item_profile_list = [get_product(x) for x in ids]\n",
    "    item_profiles = scipy.sparse.vstack(item_profile_list)\n",
    "    return item_profiles"
   ]
  },
  {
   "cell_type": "code",
   "execution_count": 6,
   "metadata": {},
   "outputs": [],
   "source": [
    "class ContentBasedRecommender:\n",
    "    MODEL_NAME = 'Content-Based'\n",
    "    def __init__(self,item_ids=None):\n",
    "        self.item_ids = item_ids\n",
    "    def get_model_name(self):\n",
    "        return self.MODEL_NAME\n",
    "    def _get_similar_products(self, item_id, topn=1000):\n",
    "        cosine_similarities = cosine_similarity(get_product(item_id),vector)\n",
    "        similar_indices = cosine_similarities.argsort().flatten()[-topn:]\n",
    "        similar_products = sorted([(item_ids[i],cosine_similarities[0,i]) for i in similar_indices ], key=lambda x : -x[1])\n",
    "        return similar_products\n",
    "    def get_recommendation(self,item_id,items_to_ignore = [], topn=10, verbose = False):\n",
    "        items_to_ignore.append(item_id)\n",
    "        similar_items = self._get_similar_products(item_id)\n",
    "        similar_items_filtered = list(filter(lambda x: x[0] not in items_to_ignore, similar_items))\n",
    "        return similar_items_filtered[:10]"
   ]
  },
  {
   "cell_type": "code",
   "execution_count": 7,
   "metadata": {},
   "outputs": [],
   "source": [
    "csm = ContentBasedRecommender(item_ids)"
   ]
  },
  {
   "cell_type": "code",
   "execution_count": 36,
   "metadata": {},
   "outputs": [
    {
     "data": {
      "text/plain": [
       "'2f0b48ed3b5553d989aed89a6fcd9487'"
      ]
     },
     "execution_count": 36,
     "metadata": {},
     "output_type": "execute_result"
    }
   ],
   "source": [
    "csm = ContentBasedRecommender(item_ids)\n",
    "x = csm.get_recommendation(26214)[:5]\n",
    "ids = []\n",
    "for i in range(0,len(x)):\n",
    "    ids.append(x[i][0])\n",
    "pids = []\n",
    "for i in range (0,len(ids)):\n",
    "    pids.append(product_id[ids[i]])\n",
    "pids\n",
    "product_id[13195]"
   ]
  },
  {
   "cell_type": "code",
   "execution_count": 28,
   "metadata": {},
   "outputs": [
    {
     "data": {
      "text/html": [
       "<div>\n",
       "<style scoped>\n",
       "    .dataframe tbody tr th:only-of-type {\n",
       "        vertical-align: middle;\n",
       "    }\n",
       "\n",
       "    .dataframe tbody tr th {\n",
       "        vertical-align: top;\n",
       "    }\n",
       "\n",
       "    .dataframe thead th {\n",
       "        text-align: right;\n",
       "    }\n",
       "</style>\n",
       "<table border=\"1\" class=\"dataframe\">\n",
       "  <thead>\n",
       "    <tr style=\"text-align: right;\">\n",
       "      <th></th>\n",
       "      <th>product_id</th>\n",
       "      <th>seller_index</th>\n",
       "      <th>category_index</th>\n",
       "      <th>review_score</th>\n",
       "    </tr>\n",
       "  </thead>\n",
       "  <tbody>\n",
       "    <tr>\n",
       "      <th>13195</th>\n",
       "      <td>2f0b48ed3b5553d989aed89a6fcd9487</td>\n",
       "      <td>232</td>\n",
       "      <td>7</td>\n",
       "      <td>1.0</td>\n",
       "    </tr>\n",
       "  </tbody>\n",
       "</table>\n",
       "</div>"
      ],
      "text/plain": [
       "                             product_id  seller_index  category_index  \\\n",
       "13195  2f0b48ed3b5553d989aed89a6fcd9487           232               7   \n",
       "\n",
       "       review_score  \n",
       "13195           1.0  "
      ]
     },
     "execution_count": 28,
     "metadata": {},
     "output_type": "execute_result"
    }
   ],
   "source": [
    "df[df.product_id==\"2f0b48ed3b5553d989aed89a6fcd9487\"]"
   ]
  },
  {
   "cell_type": "code",
   "execution_count": 26,
   "metadata": {},
   "outputs": [],
   "source": [
    "df1 = pd.read_csv('olist_products_dataset.csv')\n"
   ]
  },
  {
   "cell_type": "code",
   "execution_count": 37,
   "metadata": {},
   "outputs": [
    {
     "data": {
      "text/html": [
       "<div>\n",
       "<style scoped>\n",
       "    .dataframe tbody tr th:only-of-type {\n",
       "        vertical-align: middle;\n",
       "    }\n",
       "\n",
       "    .dataframe tbody tr th {\n",
       "        vertical-align: top;\n",
       "    }\n",
       "\n",
       "    .dataframe thead th {\n",
       "        text-align: right;\n",
       "    }\n",
       "</style>\n",
       "<table border=\"1\" class=\"dataframe\">\n",
       "  <thead>\n",
       "    <tr style=\"text-align: right;\">\n",
       "      <th></th>\n",
       "      <th>product_id</th>\n",
       "      <th>product_category_name</th>\n",
       "      <th>product_name_lenght</th>\n",
       "      <th>product_description_lenght</th>\n",
       "      <th>product_photos_qty</th>\n",
       "      <th>product_weight_g</th>\n",
       "      <th>product_length_cm</th>\n",
       "      <th>product_height_cm</th>\n",
       "      <th>product_width_cm</th>\n",
       "    </tr>\n",
       "  </thead>\n",
       "  <tbody>\n",
       "    <tr>\n",
       "      <th>9855</th>\n",
       "      <td>2f0b48ed3b5553d989aed89a6fcd9487</td>\n",
       "      <td>automotivo</td>\n",
       "      <td>55.0</td>\n",
       "      <td>1698.0</td>\n",
       "      <td>1.0</td>\n",
       "      <td>6400.0</td>\n",
       "      <td>20.0</td>\n",
       "      <td>20.0</td>\n",
       "      <td>20.0</td>\n",
       "    </tr>\n",
       "  </tbody>\n",
       "</table>\n",
       "</div>"
      ],
      "text/plain": [
       "                            product_id product_category_name  \\\n",
       "9855  2f0b48ed3b5553d989aed89a6fcd9487            automotivo   \n",
       "\n",
       "      product_name_lenght  product_description_lenght  product_photos_qty  \\\n",
       "9855                 55.0                      1698.0                 1.0   \n",
       "\n",
       "      product_weight_g  product_length_cm  product_height_cm  product_width_cm  \n",
       "9855            6400.0               20.0               20.0              20.0  "
      ]
     },
     "execution_count": 37,
     "metadata": {},
     "output_type": "execute_result"
    }
   ],
   "source": [
    "df1[df1.product_id==\"2f0b48ed3b5553d989aed89a6fcd9487\"]"
   ]
  }
 ],
 "metadata": {
  "kernelspec": {
   "display_name": "Python 3",
   "language": "python",
   "name": "python3"
  },
  "language_info": {
   "codemirror_mode": {
    "name": "ipython",
    "version": 3
   },
   "file_extension": ".py",
   "mimetype": "text/x-python",
   "name": "python",
   "nbconvert_exporter": "python",
   "pygments_lexer": "ipython3",
   "version": "3.7.4"
  }
 },
 "nbformat": 4,
 "nbformat_minor": 2
}
