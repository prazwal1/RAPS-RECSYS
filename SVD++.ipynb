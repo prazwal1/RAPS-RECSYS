{
 "cells": [
  {
   "cell_type": "markdown",
   "metadata": {},
   "source": [
    "Modern day recommender systems should exploit all available interactions both explicit (e.g. numerical ratings) and implicit (e.g. likes, purchases, skipped, bookmarked). To this end SVD++ was designed to take into account implicit interactions as well. <p><p>\n",
    "I have used this algorithm on the 'user_product_review' dataset which is extracted from the orginal dataset.\n"
   ]
  },
  {
   "cell_type": "code",
   "execution_count": 1,
   "metadata": {},
   "outputs": [],
   "source": [
    "#importing libraries\n",
    "import surprise \n",
    "import numpy as np\n",
    "import pandas as pd"
   ]
  },
  {
   "cell_type": "code",
   "execution_count": 2,
   "metadata": {},
   "outputs": [
    {
     "data": {
      "text/html": [
       "<div>\n",
       "<style scoped>\n",
       "    .dataframe tbody tr th:only-of-type {\n",
       "        vertical-align: middle;\n",
       "    }\n",
       "\n",
       "    .dataframe tbody tr th {\n",
       "        vertical-align: top;\n",
       "    }\n",
       "\n",
       "    .dataframe thead th {\n",
       "        text-align: right;\n",
       "    }\n",
       "</style>\n",
       "<table border=\"1\" class=\"dataframe\">\n",
       "  <thead>\n",
       "    <tr style=\"text-align: right;\">\n",
       "      <th></th>\n",
       "      <th>customer_id</th>\n",
       "      <th>product_id</th>\n",
       "      <th>review_score</th>\n",
       "    </tr>\n",
       "  </thead>\n",
       "  <tbody>\n",
       "    <tr>\n",
       "      <th>0</th>\n",
       "      <td>3ce436f183e68e07877b285a838db11a</td>\n",
       "      <td>4244733e06e7ecb4970a6e2683c13e61</td>\n",
       "      <td>5</td>\n",
       "    </tr>\n",
       "    <tr>\n",
       "      <th>1</th>\n",
       "      <td>f6dd3ec061db4e3987629fe6b26e5cce</td>\n",
       "      <td>e5f2d52b802189ee658865ca93d83a8f</td>\n",
       "      <td>4</td>\n",
       "    </tr>\n",
       "    <tr>\n",
       "      <th>2</th>\n",
       "      <td>6489ae5e4333f3693df5ad4372dab6d3</td>\n",
       "      <td>c777355d18b72b67abbeef9df44fd0fd</td>\n",
       "      <td>5</td>\n",
       "    </tr>\n",
       "    <tr>\n",
       "      <th>3</th>\n",
       "      <td>d4eb9395c8c0431ee92fce09860c5a06</td>\n",
       "      <td>7634da152a4610f1595efa32f14722fc</td>\n",
       "      <td>4</td>\n",
       "    </tr>\n",
       "    <tr>\n",
       "      <th>4</th>\n",
       "      <td>58dbd0b2d70206bf40e62cd34e84d795</td>\n",
       "      <td>ac6c3623068f30de03045865e4e10089</td>\n",
       "      <td>5</td>\n",
       "    </tr>\n",
       "  </tbody>\n",
       "</table>\n",
       "</div>"
      ],
      "text/plain": [
       "                        customer_id                        product_id  \\\n",
       "0  3ce436f183e68e07877b285a838db11a  4244733e06e7ecb4970a6e2683c13e61   \n",
       "1  f6dd3ec061db4e3987629fe6b26e5cce  e5f2d52b802189ee658865ca93d83a8f   \n",
       "2  6489ae5e4333f3693df5ad4372dab6d3  c777355d18b72b67abbeef9df44fd0fd   \n",
       "3  d4eb9395c8c0431ee92fce09860c5a06  7634da152a4610f1595efa32f14722fc   \n",
       "4  58dbd0b2d70206bf40e62cd34e84d795  ac6c3623068f30de03045865e4e10089   \n",
       "\n",
       "   review_score  \n",
       "0             5  \n",
       "1             4  \n",
       "2             5  \n",
       "3             4  \n",
       "4             5  "
      ]
     },
     "execution_count": 2,
     "metadata": {},
     "output_type": "execute_result"
    }
   ],
   "source": [
    "#importing dataset\n",
    "dataset = pd.read_csv('user_product_review.csv')\n",
    "dataset = dataset.drop_duplicates()\n",
    "dataset.head()"
   ]
  },
  {
   "cell_type": "code",
   "execution_count": 3,
   "metadata": {},
   "outputs": [
    {
     "name": "stdout",
     "output_type": "stream",
     "text": [
      "Review range 1 to 5\n"
     ]
    }
   ],
   "source": [
    "#finding the range of our ratings\n",
    "lower_rating  = dataset['review_score'].min()\n",
    "upper_rating = dataset['review_score'].max()\n",
    "print('Review range {0} to {1}'.format(lower_rating,upper_rating))"
   ]
  },
  {
   "cell_type": "code",
   "execution_count": 4,
   "metadata": {},
   "outputs": [],
   "source": [
    "#defining a reader class based on the range of our ratings and loading the dataset\n",
    "reader = surprise.Reader(rating_scale = (1,5))\n",
    "data = surprise.Dataset.load_from_df(dataset,reader)"
   ]
  },
  {
   "cell_type": "code",
   "execution_count": 5,
   "metadata": {},
   "outputs": [],
   "source": [
    "#implementing SVD++ algorithm on the dataset\n",
    "alg = surprise.SVDpp()\n",
    "output = alg.fit(data.build_full_trainset())\n",
    "#For now we have just trained the model on the whole dataset, which is not good practice."
   ]
  },
  {
   "cell_type": "code",
   "execution_count": 6,
   "metadata": {},
   "outputs": [
    {
     "name": "stdout",
     "output_type": "stream",
     "text": [
      "3.8705551390071062\n"
     ]
    }
   ],
   "source": [
    "#Checking predict score for customer_id '3ce436f183e68e07877b285a838db11a' on product_id '777d2e438a1b645f3aec9bd57e92672c'.\n",
    "pred = alg.predict(uid='3ce436f183e68e07877b285a838db11a', iid='777d2e438a1b645f3aec9bd57e92672c')\n",
    "score = pred.est\n",
    "print(score)"
   ]
  },
  {
   "cell_type": "code",
   "execution_count": 7,
   "metadata": {},
   "outputs": [],
   "source": [
    "#making recomendations for customer_id  '3ce436f183e68e07877b285a838db11a'\n",
    "#geting the list of all product_id.\n",
    "pids = dataset['product_id'].unique()\n",
    "#getting the list of product_id customer_id '3ce436f183e68e07877b285a838db11a' has rated.\n",
    "pids_cus = dataset.loc[dataset['customer_id']=='3ce436f183e68e07877b285a838db11a' ,'product_id']\n",
    "#removing the product_id that customer_id '3ce436f183e68e07877b285a838db11a' has rated.\n",
    "pids_to_pred = np.setdiff1d(pids,pids_cus)\n"
   ]
  },
  {
   "cell_type": "code",
   "execution_count": 11,
   "metadata": {
    "scrolled": true
   },
   "outputs": [
    {
     "data": {
      "text/plain": [
       "Prediction(uid='3ce436f183e68e07877b285a838db11a', iid='00066f42aeeb9f3007548bb9d3f33c38', r_ui=5, est=4.274855770321975, details={'was_impossible': False})"
      ]
     },
     "execution_count": 11,
     "metadata": {},
     "output_type": "execute_result"
    }
   ],
   "source": [
    "#making a new dataset for the product_ids that customer_id '3ce436f183e68e07877b285a838db11a' has not rated\n",
    "testset = [['3ce436f183e68e07877b285a838db11a', pid, 5] for pid in pids_to_pred]\n",
    "#making a predictions\n",
    "prediction  = alg.test(testset)\n",
    "#first prediction\n",
    "prediction[0]"
   ]
  },
  {
   "cell_type": "code",
   "execution_count": 14,
   "metadata": {},
   "outputs": [
    {
     "name": "stdout",
     "output_type": "stream",
     "text": [
      "Top item for user_id 3ce436f183e68e07877b285a838db11a has product_id 17a019676883dce326999c11a46a14f0 with prediction rating 4.903366709591662\n"
     ]
    }
   ],
   "source": [
    "pred_ratings = np.array([pred.est for pred in prediction])\n",
    "#finding the index of maximum rating\n",
    "i_max = pred_ratings.argmax()\n",
    "#using the index to find the top item to recommend \n",
    "pid = pids_to_pred[i_max]\n",
    "print('Top item for user_id 3ce436f183e68e07877b285a838db11a has product_id {0} with prediction rating {1}'.format(pid,pred_ratings[i_max]))"
   ]
  },
  {
   "cell_type": "code",
   "execution_count": 15,
   "metadata": {},
   "outputs": [
    {
     "name": "stdout",
     "output_type": "stream",
     "text": [
      "{'lr_all': 0.01, 'reg_all': 0.5}\n"
     ]
    }
   ],
   "source": [
    "#tuning the learning rate and regularisation of the algorithm\n",
    "parm_grid = {'lr_all': [.001, .01], 'reg_all' : [.1, .5]}\n",
    "gs = surprise.model_selection.GridSearchCV(surprise.SVDpp,parm_grid, measures =['rmse', 'mae'], cv=3)\n",
    "gs.fit(data)\n",
    "#print combination of parameters that gave best rmse score\n",
    "print(gs.best_params['rmse'])"
   ]
  },
  {
   "cell_type": "code",
   "execution_count": 16,
   "metadata": {},
   "outputs": [
    {
     "name": "stdout",
     "output_type": "stream",
     "text": [
      "Evaluating RMSE, MAE of algorithm SVDpp on 5 split(s).\n",
      "\n",
      "                  Fold 1  Fold 2  Fold 3  Fold 4  Fold 5  Mean    Std     \n",
      "RMSE (testset)    1.3709  1.3446  1.3610  1.3438  1.3488  1.3538  0.0105  \n",
      "MAE (testset)     1.0814  1.0597  1.0708  1.0610  1.0651  1.0676  0.0079  \n",
      "Fit time          7.05    7.62    7.42    8.02    7.34    7.49    0.32    \n",
      "Test time         0.11    0.30    0.11    0.11    0.11    0.15    0.08    \n"
     ]
    }
   ],
   "source": [
    "#evaluating the performance of the algorithm\n",
    "alg = surprise.SVDpp(lr_all = .001)\n",
    "output = surprise.model_selection.cross_validate(alg, data , verbose = True)"
   ]
  }
 ],
 "metadata": {
  "kernelspec": {
   "display_name": "Python 3",
   "language": "python",
   "name": "python3"
  },
  "language_info": {
   "codemirror_mode": {
    "name": "ipython",
    "version": 3
   },
   "file_extension": ".py",
   "mimetype": "text/x-python",
   "name": "python",
   "nbconvert_exporter": "python",
   "pygments_lexer": "ipython3",
   "version": "3.7.4"
  }
 },
 "nbformat": 4,
 "nbformat_minor": 2
}
