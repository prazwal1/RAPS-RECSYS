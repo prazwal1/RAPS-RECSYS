{
 "cells": [
  {
   "cell_type": "markdown",
   "metadata": {},
   "source": [
    "<h4> Here I have calculated the cosine similarity for weight, length, height, width for 1000 products in our dataset </h4>"
   ]
  },
  {
   "cell_type": "code",
   "execution_count": 2,
   "metadata": {},
   "outputs": [],
   "source": [
    "import pandas as pd\n",
    "import numpy as np\n",
    "\n",
    "from sklearn.metrics.pairwise import cosine_similarity\n"
   ]
  },
  {
   "cell_type": "code",
   "execution_count": 3,
   "metadata": {},
   "outputs": [
    {
     "data": {
      "text/plain": [
       "array([[ 225.,   16.,   10.,   14.],\n",
       "       [ 400.,   27.,    5.,   20.],\n",
       "       [ 422.,   21.,   16.,   18.],\n",
       "       ...,\n",
       "       [1000.,   20.,   20.,   14.],\n",
       "       [ 550.,   27.,   25.,   25.],\n",
       "       [4350.,   20.,   20.,   20.]])"
      ]
     },
     "execution_count": 3,
     "metadata": {},
     "output_type": "execute_result"
    }
   ],
   "source": [
    "data = pd.read_csv('new_products.csv')\n",
    "data = data[['product_id','product_name','product_category_name_english','product_weight_g','product_length_cm','product_height_cm','product_width_cm']]\n",
    "product_details = data[['product_weight_g','product_length_cm','product_height_cm','product_width_cm']].head(1000).values\n",
    "#product_details = product_details.astype(int)\n",
    "product_details"
   ]
  },
  {
   "cell_type": "code",
   "execution_count": 5,
   "metadata": {},
   "outputs": [
    {
     "data": {
      "text/plain": [
       "array([[1.        , 0.99941555, 0.99956627, ..., 0.99726083, 0.99962212,\n",
       "        0.99537372],\n",
       "       [0.99941555, 1.        , 0.9994963 , ..., 0.99820791, 0.99928221,\n",
       "        0.99697709],\n",
       "       [0.99956627, 0.9994963 , 1.        , ..., 0.99899227, 0.99996771,\n",
       "        0.99771152],\n",
       "       ...,\n",
       "       [0.99726083, 0.99820791, 0.99899227, ..., 1.        , 0.99876667,\n",
       "        0.99971883],\n",
       "       [0.99962212, 0.99928221, 0.99996771, ..., 0.99876667, 1.        ,\n",
       "        0.99735485],\n",
       "       [0.99537372, 0.99697709, 0.99771152, ..., 0.99971883, 0.99735485,\n",
       "        1.        ]])"
      ]
     },
     "execution_count": 5,
     "metadata": {},
     "output_type": "execute_result"
    }
   ],
   "source": [
    "csim = cosine_similarity(product_details)\n",
    "csim"
   ]
  },
  {
   "cell_type": "code",
   "execution_count": null,
   "metadata": {},
   "outputs": [],
   "source": []
  }
 ],
 "metadata": {
  "kernelspec": {
   "display_name": "Python 3",
   "language": "python",
   "name": "python3"
  },
  "language_info": {
   "codemirror_mode": {
    "name": "ipython",
    "version": 3
   },
   "file_extension": ".py",
   "mimetype": "text/x-python",
   "name": "python",
   "nbconvert_exporter": "python",
   "pygments_lexer": "ipython3",
   "version": "3.7.4"
  }
 },
 "nbformat": 4,
 "nbformat_minor": 2
}
