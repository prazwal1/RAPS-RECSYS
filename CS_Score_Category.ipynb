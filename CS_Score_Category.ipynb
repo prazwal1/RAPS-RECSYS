{
 "cells": [
  {
   "cell_type": "markdown",
   "metadata": {},
   "source": [
    "<H7> Calculating cosine silimarity and its average for product_category using CountVectorizer.</H7>"
   ]
  },
  {
   "cell_type": "code",
   "execution_count": 2,
   "metadata": {},
   "outputs": [],
   "source": [
    "import string\n",
    "import pandas as pd \n",
    "import numpy \n",
    "from sklearn.metrics.pairwise import cosine_similarity\n",
    "from sklearn.feature_extraction.text import CountVectorizer"
   ]
  },
  {
   "cell_type": "code",
   "execution_count": 8,
   "metadata": {},
   "outputs": [
    {
     "data": {
      "text/plain": [
       "['perfumery',\n",
       " 'art',\n",
       " 'sportsleisure',\n",
       " 'baby',\n",
       " 'housewares',\n",
       " 'musicalinstruments',\n",
       " 'coolstuff',\n",
       " 'furnituredecor',\n",
       " 'homeappliances',\n",
       " 'toys',\n",
       " 'bedbathtable',\n",
       " 'constructiontoolssafety',\n",
       " 'computersaccessories',\n",
       " 'healthbeauty',\n",
       " 'luggageaccessories',\n",
       " 'gardentools',\n",
       " 'officefurniture',\n",
       " 'auto',\n",
       " 'electronics',\n",
       " 'fashionshoes',\n",
       " 'telephony',\n",
       " 'stationery',\n",
       " 'fashionbagsaccessories',\n",
       " 'computers',\n",
       " 'homeconstruction',\n",
       " 'watchesgifts',\n",
       " 'constructiontoolsconstruction',\n",
       " 'petshop',\n",
       " 'smallappliances',\n",
       " 'agroindustryandcommerce',\n",
       " 'furniturelivingroom',\n",
       " 'signalingandsecurity',\n",
       " 'airconditioning',\n",
       " 'consolesgames',\n",
       " 'booksgeneralinterest',\n",
       " 'costructiontoolstools',\n",
       " 'fashionunderwearbeach',\n",
       " 'fashionmaleclothing',\n",
       " 'kitchendininglaundrygardenfurniture',\n",
       " 'industrycommerceandbusiness',\n",
       " 'fixedtelephony',\n",
       " 'constructiontoolslights',\n",
       " 'bookstechnical',\n",
       " 'homeappliances2',\n",
       " 'partysupplies',\n",
       " 'drinks',\n",
       " 'marketplace',\n",
       " 'lacuisine',\n",
       " 'costructiontoolsgarden',\n",
       " 'fashiofemaleclothing',\n",
       " 'homeconfort',\n",
       " 'audio',\n",
       " 'fooddrink',\n",
       " 'music',\n",
       " 'food',\n",
       " 'tabletsprintingimage',\n",
       " 'booksimported',\n",
       " 'smallapplianceshomeovenandcoffee',\n",
       " 'fashionsport',\n",
       " 'christmassupplies',\n",
       " 'fashionchildrensclothes',\n",
       " 'dvdsbluray',\n",
       " 'artsandcraftmanship',\n",
       " 'furniturebedroom',\n",
       " 'cinephoto',\n",
       " 'diapersandhygiene',\n",
       " 'flowers',\n",
       " 'homecomfort2',\n",
       " 'securityandservices',\n",
       " 'furnituremattressandupholstery',\n",
       " 'cdsdvdsmusicals']"
      ]
     },
     "execution_count": 8,
     "metadata": {},
     "output_type": "execute_result"
    }
   ],
   "source": [
    "data = pd.read_csv('new_products.csv')\n",
    "data = data.product_category_name_english.unique()\n",
    "data_trimmed =[]\n",
    "for x in data:\n",
    "    x = x.replace(\"_\",\"\")\n",
    "    data_trimmed.append(x)\n",
    "data_trimmed"
   ]
  },
  {
   "cell_type": "code",
   "execution_count": 9,
   "metadata": {},
   "outputs": [
    {
     "data": {
      "text/plain": [
       "array([[0, 0, 0, ..., 0, 0, 1],\n",
       "       [0, 1, 0, ..., 0, 0, 0],\n",
       "       [0, 0, 0, ..., 0, 0, 0],\n",
       "       ...,\n",
       "       [0, 1, 0, ..., 0, 0, 1],\n",
       "       [0, 2, 0, ..., 0, 0, 1],\n",
       "       [0, 1, 0, ..., 0, 0, 0]])"
      ]
     },
     "execution_count": 9,
     "metadata": {},
     "output_type": "execute_result"
    }
   ],
   "source": [
    "vectorizer = CountVectorizer(analyzer='char').fit_transform(data_trimmed)\n",
    "vectors = vectorizer.toarray()\n",
    "vectors"
   ]
  },
  {
   "cell_type": "code",
   "execution_count": 10,
   "metadata": {},
   "outputs": [
    {
     "data": {
      "text/plain": [
       "array([0.37007071, 0.3431096 , 0.56264296, 0.14036799, 0.51831139,\n",
       "       0.56521124, 0.4395621 , 0.51582135, 0.54962811, 0.39996208,\n",
       "       0.36460456, 0.61085882, 0.59357281, 0.41834279, 0.52523932,\n",
       "       0.58565573, 0.4849637 , 0.40043373, 0.58343283, 0.52217116,\n",
       "       0.46607881, 0.5870209 , 0.57711797, 0.54751643, 0.58944037,\n",
       "       0.49998926, 0.55446963, 0.42668206, 0.45365361, 0.60222797,\n",
       "       0.51532865, 0.54466021, 0.46829297, 0.55076778, 0.60323545,\n",
       "       0.52668412, 0.56916155, 0.58109425, 0.51846651, 0.60946064,\n",
       "       0.48922335, 0.57361703, 0.57649781, 0.53774006, 0.4668194 ,\n",
       "       0.38709226, 0.45975689, 0.50946539, 0.62556139, 0.58326024,\n",
       "       0.50429425, 0.39498145, 0.39168906, 0.36617648, 0.29674475,\n",
       "       0.53592185, 0.52221425, 0.57969046, 0.57875537, 0.53147085,\n",
       "       0.61616443, 0.34458057, 0.52328567, 0.52514671, 0.52243056,\n",
       "       0.51427998, 0.45594071, 0.44466497, 0.57849407, 0.61726262,\n",
       "       0.4011876 ])"
      ]
     },
     "execution_count": 10,
     "metadata": {},
     "output_type": "execute_result"
    }
   ],
   "source": [
    "csim = cosine_similarity(vectors)\n",
    "average = csim.mean(axis=1)\n",
    "average"
   ]
  },
  {
   "cell_type": "code",
   "execution_count": 11,
   "metadata": {},
   "outputs": [
    {
     "data": {
      "text/html": [
       "<div>\n",
       "<style scoped>\n",
       "    .dataframe tbody tr th:only-of-type {\n",
       "        vertical-align: middle;\n",
       "    }\n",
       "\n",
       "    .dataframe tbody tr th {\n",
       "        vertical-align: top;\n",
       "    }\n",
       "\n",
       "    .dataframe thead th {\n",
       "        text-align: right;\n",
       "    }\n",
       "</style>\n",
       "<table border=\"1\" class=\"dataframe\">\n",
       "  <thead>\n",
       "    <tr style=\"text-align: right;\">\n",
       "      <th></th>\n",
       "      <th>product_category_name_english</th>\n",
       "      <th>CS_Score_Category</th>\n",
       "    </tr>\n",
       "  </thead>\n",
       "  <tbody>\n",
       "    <tr>\n",
       "      <th>0</th>\n",
       "      <td>perfumery</td>\n",
       "      <td>0.370071</td>\n",
       "    </tr>\n",
       "    <tr>\n",
       "      <th>1</th>\n",
       "      <td>art</td>\n",
       "      <td>0.343110</td>\n",
       "    </tr>\n",
       "    <tr>\n",
       "      <th>2</th>\n",
       "      <td>sports_leisure</td>\n",
       "      <td>0.562643</td>\n",
       "    </tr>\n",
       "    <tr>\n",
       "      <th>3</th>\n",
       "      <td>baby</td>\n",
       "      <td>0.140368</td>\n",
       "    </tr>\n",
       "    <tr>\n",
       "      <th>4</th>\n",
       "      <td>housewares</td>\n",
       "      <td>0.518311</td>\n",
       "    </tr>\n",
       "    <tr>\n",
       "      <th>...</th>\n",
       "      <td>...</td>\n",
       "      <td>...</td>\n",
       "    </tr>\n",
       "    <tr>\n",
       "      <th>66</th>\n",
       "      <td>flowers</td>\n",
       "      <td>0.455941</td>\n",
       "    </tr>\n",
       "    <tr>\n",
       "      <th>67</th>\n",
       "      <td>home_comfort_2</td>\n",
       "      <td>0.444665</td>\n",
       "    </tr>\n",
       "    <tr>\n",
       "      <th>68</th>\n",
       "      <td>security_and_services</td>\n",
       "      <td>0.578494</td>\n",
       "    </tr>\n",
       "    <tr>\n",
       "      <th>69</th>\n",
       "      <td>furniture_mattress_and_upholstery</td>\n",
       "      <td>0.617263</td>\n",
       "    </tr>\n",
       "    <tr>\n",
       "      <th>70</th>\n",
       "      <td>cds_dvds_musicals</td>\n",
       "      <td>0.401188</td>\n",
       "    </tr>\n",
       "  </tbody>\n",
       "</table>\n",
       "<p>71 rows × 2 columns</p>\n",
       "</div>"
      ],
      "text/plain": [
       "        product_category_name_english  CS_Score_Category\n",
       "0                           perfumery           0.370071\n",
       "1                                 art           0.343110\n",
       "2                      sports_leisure           0.562643\n",
       "3                                baby           0.140368\n",
       "4                          housewares           0.518311\n",
       "..                                ...                ...\n",
       "66                            flowers           0.455941\n",
       "67                     home_comfort_2           0.444665\n",
       "68              security_and_services           0.578494\n",
       "69  furniture_mattress_and_upholstery           0.617263\n",
       "70                  cds_dvds_musicals           0.401188\n",
       "\n",
       "[71 rows x 2 columns]"
      ]
     },
     "execution_count": 11,
     "metadata": {},
     "output_type": "execute_result"
    }
   ],
   "source": [
    "Csim = pd.DataFrame({'CS_Score_Category': average})\n",
    "Data = pd.DataFrame({'product_category_name_english' : data})\n",
    "Data[['CS_Score_Category']] = Csim\n",
    "Data.head(71)"
   ]
  },
  {
   "cell_type": "code",
   "execution_count": null,
   "metadata": {},
   "outputs": [],
   "source": [
    "4"
   ]
  }
 ],
 "metadata": {
  "kernelspec": {
   "display_name": "Python 3",
   "language": "python",
   "name": "python3"
  },
  "language_info": {
   "codemirror_mode": {
    "name": "ipython",
    "version": 3
   },
   "file_extension": ".py",
   "mimetype": "text/x-python",
   "name": "python",
   "nbconvert_exporter": "python",
   "pygments_lexer": "ipython3",
   "version": "3.7.4"
  }
 },
 "nbformat": 4,
 "nbformat_minor": 2
}
